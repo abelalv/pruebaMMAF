{
 "cells": [
  {
   "cell_type": "code",
   "execution_count": 2,
   "metadata": {},
   "outputs": [],
   "source": [
    "# Aqui hago una rueba note que las cosas que se imprimen en la terminal se\n",
    "\n",
    "# pueden ver en el archivo de log\n",
    "import logging\n",
    "import sys\n",
    "\n",
    "askpjfpjj"
   ]
  },
  {
   "cell_type": "code",
   "execution_count": 3,
   "metadata": {},
   "outputs": [],
   "source": [
    "a=3\n",
    "b=4"
   ]
  }
 ],
 "metadata": {
  "language_info": {
   "name": "python"
  }
 },
 "nbformat": 4,
 "nbformat_minor": 2
}
